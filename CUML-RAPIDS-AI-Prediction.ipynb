{
 "cells": [
  {
   "cell_type": "code",
   "execution_count": 1,
   "id": "de34ea86-0ffa-400e-ba55-414755c5cac3",
   "metadata": {},
   "outputs": [],
   "source": [
    "import numpy as np # linear algebra\n",
    "import pandas as pd # data processing, CSV file I/O (e.g. pd.read_csv)\n",
    "import seaborn as sns\n",
    "import matplotlib.pyplot as plt\n",
    "\n",
    "from matplotlib.colors import LinearSegmentedColormap\n",
    "from collections import Counter\n",
    "import cudf\n",
    "import cuml\n",
    "\n",
    "import warnings\n",
    "warnings.filterwarnings('ignore') "
   ]
  },
  {
   "cell_type": "markdown",
   "id": "8ae4caae-f938-4f65-af26-eed8adbe4326",
   "metadata": {},
   "source": [
    "<div style=\"background-color: #65aeeb; color: white; border-left: 6px solid #b3d4fc; padding: 10px; font-size: 20px; font-family: Verdana;\">\n",
    "    <ul>\n",
    "        <li>Use Cuml and sklearn to compare times</li>   \n",
    "    </ul>  \n",
    "</div>"
   ]
  },
  {
   "cell_type": "code",
   "execution_count": 2,
   "id": "d2103ce2-26b9-4c95-af0d-abf7ae455b70",
   "metadata": {},
   "outputs": [],
   "source": [
    "!pip install colorama -q"
   ]
  },
  {
   "cell_type": "code",
   "execution_count": 3,
   "id": "ed8b34e1-32c2-478e-914b-110c4cd84ea4",
   "metadata": {},
   "outputs": [],
   "source": [
    "from colorama import Fore, Style"
   ]
  },
  {
   "cell_type": "code",
   "execution_count": 4,
   "id": "9abdd71e-fbd5-462a-b5a7-512e14ad3ea7",
   "metadata": {},
   "outputs": [],
   "source": [
    "df = cudf.read_csv(\"df.csv\")"
   ]
  },
  {
   "cell_type": "code",
   "execution_count": 5,
   "id": "31b41139-56b7-4ab7-ba76-b0a437511599",
   "metadata": {
    "scrolled": true
   },
   "outputs": [
    {
     "name": "stdout",
     "output_type": "stream",
     "text": [
      "<class 'cudf.core.dataframe.DataFrame'>\n",
      "RangeIndex: 695073 entries, 0 to 695072\n",
      "Data columns (total 43 columns):\n",
      " #   Column  Non-Null Count   Dtype\n",
      "---  ------  --------------   -----\n",
      " 0   0       695073 non-null  float64\n",
      " 1   1       695073 non-null  float64\n",
      " 2   2       695073 non-null  float64\n",
      " 3   3       695073 non-null  float64\n",
      " 4   4       695073 non-null  float64\n",
      " 5   5       695073 non-null  float64\n",
      " 6   6       695073 non-null  float64\n",
      " 7   7       695073 non-null  float64\n",
      " 8   8       695073 non-null  float64\n",
      " 9   9       695073 non-null  float64\n",
      " 10  10      695073 non-null  float64\n",
      " 11  11      695073 non-null  float64\n",
      " 12  12      695073 non-null  float64\n",
      " 13  13      695073 non-null  float64\n",
      " 14  14      695073 non-null  float64\n",
      " 15  15      695073 non-null  float64\n",
      " 16  16      695073 non-null  float64\n",
      " 17  17      695073 non-null  float64\n",
      " 18  18      695073 non-null  float64\n",
      " 19  19      695073 non-null  float64\n",
      " 20  20      695073 non-null  float64\n",
      " 21  21      695073 non-null  float64\n",
      " 22  22      695073 non-null  float64\n",
      " 23  23      695073 non-null  float64\n",
      " 24  24      695073 non-null  float64\n",
      " 25  25      695073 non-null  float64\n",
      " 26  26      695073 non-null  float64\n",
      " 27  27      695073 non-null  float64\n",
      " 28  28      695073 non-null  float64\n",
      " 29  29      695073 non-null  float64\n",
      " 30  30      695073 non-null  float64\n",
      " 31  31      695073 non-null  float64\n",
      " 32  32      695073 non-null  float64\n",
      " 33  33      695073 non-null  float64\n",
      " 34  34      695073 non-null  float64\n",
      " 35  35      695073 non-null  float64\n",
      " 36  36      695073 non-null  float64\n",
      " 37  37      695073 non-null  float64\n",
      " 38  38      695073 non-null  float64\n",
      " 39  39      695073 non-null  float64\n",
      " 40  40      695073 non-null  float64\n",
      " 41  41      695073 non-null  float64\n",
      " 42  target  695073 non-null  int64\n",
      "dtypes: float64(42), int64(1)\n",
      "memory usage: 228.0 MB\n"
     ]
    }
   ],
   "source": [
    "df.info()"
   ]
  },
  {
   "cell_type": "code",
   "execution_count": 6,
   "id": "53323e8d-7ab3-48ad-ae69-29fdd55d1601",
   "metadata": {},
   "outputs": [
    {
     "data": {
      "text/html": [
       "<div>\n",
       "<style scoped>\n",
       "    .dataframe tbody tr th:only-of-type {\n",
       "        vertical-align: middle;\n",
       "    }\n",
       "\n",
       "    .dataframe tbody tr th {\n",
       "        vertical-align: top;\n",
       "    }\n",
       "\n",
       "    .dataframe thead th {\n",
       "        text-align: right;\n",
       "    }\n",
       "</style>\n",
       "<table border=\"1\" class=\"dataframe\">\n",
       "  <thead>\n",
       "    <tr style=\"text-align: right;\">\n",
       "      <th></th>\n",
       "      <th>0</th>\n",
       "      <th>1</th>\n",
       "      <th>2</th>\n",
       "      <th>3</th>\n",
       "      <th>4</th>\n",
       "      <th>5</th>\n",
       "      <th>6</th>\n",
       "      <th>7</th>\n",
       "      <th>8</th>\n",
       "      <th>9</th>\n",
       "      <th>...</th>\n",
       "      <th>33</th>\n",
       "      <th>34</th>\n",
       "      <th>35</th>\n",
       "      <th>36</th>\n",
       "      <th>37</th>\n",
       "      <th>38</th>\n",
       "      <th>39</th>\n",
       "      <th>40</th>\n",
       "      <th>41</th>\n",
       "      <th>target</th>\n",
       "    </tr>\n",
       "  </thead>\n",
       "  <tbody>\n",
       "    <tr>\n",
       "      <th>0</th>\n",
       "      <td>-1.710384</td>\n",
       "      <td>-1.010391</td>\n",
       "      <td>-1.411593</td>\n",
       "      <td>-2.328471</td>\n",
       "      <td>0.881562</td>\n",
       "      <td>0.415400</td>\n",
       "      <td>0.097792</td>\n",
       "      <td>0.868969</td>\n",
       "      <td>0.444528</td>\n",
       "      <td>0.000832</td>\n",
       "      <td>...</td>\n",
       "      <td>0.298227</td>\n",
       "      <td>-0.115664</td>\n",
       "      <td>0.824478</td>\n",
       "      <td>0.005400</td>\n",
       "      <td>0.018094</td>\n",
       "      <td>-0.022223</td>\n",
       "      <td>-0.636816</td>\n",
       "      <td>-1.385131</td>\n",
       "      <td>-2.711661</td>\n",
       "      <td>0</td>\n",
       "    </tr>\n",
       "    <tr>\n",
       "      <th>1</th>\n",
       "      <td>-1.710374</td>\n",
       "      <td>-1.010391</td>\n",
       "      <td>0.001092</td>\n",
       "      <td>-2.328471</td>\n",
       "      <td>0.849484</td>\n",
       "      <td>0.407832</td>\n",
       "      <td>0.138192</td>\n",
       "      <td>0.861241</td>\n",
       "      <td>0.399423</td>\n",
       "      <td>0.077110</td>\n",
       "      <td>...</td>\n",
       "      <td>0.292599</td>\n",
       "      <td>-0.126193</td>\n",
       "      <td>0.815816</td>\n",
       "      <td>-0.011864</td>\n",
       "      <td>-0.010068</td>\n",
       "      <td>-0.009401</td>\n",
       "      <td>-0.592041</td>\n",
       "      <td>-1.382887</td>\n",
       "      <td>-2.726381</td>\n",
       "      <td>0</td>\n",
       "    </tr>\n",
       "    <tr>\n",
       "      <th>2</th>\n",
       "      <td>-1.710364</td>\n",
       "      <td>-1.010391</td>\n",
       "      <td>0.001092</td>\n",
       "      <td>-2.328471</td>\n",
       "      <td>0.881795</td>\n",
       "      <td>0.415471</td>\n",
       "      <td>0.108071</td>\n",
       "      <td>0.845683</td>\n",
       "      <td>0.396348</td>\n",
       "      <td>0.101189</td>\n",
       "      <td>...</td>\n",
       "      <td>0.295401</td>\n",
       "      <td>-0.120932</td>\n",
       "      <td>0.815765</td>\n",
       "      <td>-0.000734</td>\n",
       "      <td>-0.000363</td>\n",
       "      <td>0.006405</td>\n",
       "      <td>-0.621700</td>\n",
       "      <td>-1.400107</td>\n",
       "      <td>-2.721543</td>\n",
       "      <td>0</td>\n",
       "    </tr>\n",
       "  </tbody>\n",
       "</table>\n",
       "<p>3 rows × 43 columns</p>\n",
       "</div>"
      ],
      "text/plain": [
       "          0         1         2         3         4         5         6  \\\n",
       "0 -1.710384 -1.010391 -1.411593 -2.328471  0.881562  0.415400  0.097792   \n",
       "1 -1.710374 -1.010391  0.001092 -2.328471  0.849484  0.407832  0.138192   \n",
       "2 -1.710364 -1.010391  0.001092 -2.328471  0.881795  0.415471  0.108071   \n",
       "\n",
       "          7         8         9  ...        33        34        35        36  \\\n",
       "0  0.868969  0.444528  0.000832  ...  0.298227 -0.115664  0.824478  0.005400   \n",
       "1  0.861241  0.399423  0.077110  ...  0.292599 -0.126193  0.815816 -0.011864   \n",
       "2  0.845683  0.396348  0.101189  ...  0.295401 -0.120932  0.815765 -0.000734   \n",
       "\n",
       "         37        38        39        40        41  target  \n",
       "0  0.018094 -0.022223 -0.636816 -1.385131 -2.711661       0  \n",
       "1 -0.010068 -0.009401 -0.592041 -1.382887 -2.726381       0  \n",
       "2 -0.000363  0.006405 -0.621700 -1.400107 -2.721543       0  \n",
       "\n",
       "[3 rows x 43 columns]"
      ]
     },
     "execution_count": 6,
     "metadata": {},
     "output_type": "execute_result"
    }
   ],
   "source": [
    "df.head(3)"
   ]
  },
  {
   "cell_type": "markdown",
   "id": "e3cd332f-c0ba-4da5-bf6b-cd75af5b6898",
   "metadata": {},
   "source": [
    "<div style=\"background-color: #65aeeb; color: white; border-left: 6px solid #b3d4fc; padding: 10px; font-size: 15px; font-family: Verdana;\">\n",
    "    <ul>\n",
    "        <li>Logisitic Regression</li>\n",
    "        <li>SVM</li>\n",
    "        <li>Random Forest</li>\n",
    "    </ul>  \n",
    "</div>"
   ]
  },
  {
   "cell_type": "code",
   "execution_count": 7,
   "id": "397e4da7-a0fe-4be1-874f-984f2d32418b",
   "metadata": {},
   "outputs": [],
   "source": [
    "import time\n",
    "\n",
    "class Timer:    \n",
    "    def __enter__(self):\n",
    "        self.tick = time.time()\n",
    "        return self\n",
    "    def __exit__(self, *args, **kwargs):\n",
    "        self.tock = time.time()\n",
    "        self.elapsed = self.tock - self.tick"
   ]
  },
  {
   "cell_type": "code",
   "execution_count": 8,
   "id": "31957f75-4b24-43c4-b58c-fbd5ac9b6649",
   "metadata": {},
   "outputs": [],
   "source": [
    "from cuml.common.device_selection import using_device_type, set_global_device_type\n",
    "set_global_device_type(\"GPU\")"
   ]
  },
  {
   "cell_type": "code",
   "execution_count": 9,
   "id": "86e80434-a5e0-49b8-83d9-f81a206f4fea",
   "metadata": {},
   "outputs": [],
   "source": [
    "from cuml.linear_model import Ridge, Lasso, ElasticNet, LogisticRegression\n",
    "from cuml.ensemble import RandomForestClassifier as cuRF\n",
    "from cuml import TSNE\n",
    "from cuml.svm import LinearSVC, SVC\n",
    "from cuml.model_selection import train_test_split\n",
    "from sklearn.ensemble import GradientBoostingClassifier, AdaBoostClassifier\n",
    "from sklearn.metrics import accuracy_score, classification_report, ConfusionMatrixDisplay\n",
    "from sklearn.metrics import precision_score, recall_score, f1_score, roc_auc_score, roc_curve, auc\n",
    "import pickle"
   ]
  },
  {
   "cell_type": "code",
   "execution_count": 10,
   "id": "92a920a6-460f-4851-952c-d6fc48ae097f",
   "metadata": {
    "scrolled": true
   },
   "outputs": [],
   "source": [
    "!pip install xgboost catboost -q"
   ]
  },
  {
   "cell_type": "code",
   "execution_count": 11,
   "id": "4c1b4c6c-f2f3-42ce-a67f-f19403809c80",
   "metadata": {},
   "outputs": [],
   "source": [
    "from xgboost import XGBClassifier, XGBRFClassifier\n",
    "from catboost import CatBoostClassifier\n",
    "import lightgbm as lgb"
   ]
  },
  {
   "cell_type": "code",
   "execution_count": 12,
   "id": "1e45ea4b-f6c3-4245-8d77-d2b4e33c7307",
   "metadata": {},
   "outputs": [],
   "source": [
    "def plot_model_roc_auc_curve(models_list:list, test_df= []):\n",
    "    if (test_df == []):\n",
    "        return\n",
    "        \n",
    "    test_df_np = test_df.to_numpy() if isinstance(test_df, cudf.DataFrame) else test_df\n",
    "    true_values = test_df['True'].to_numpy() if isinstance(test_df['True'], cudf.Series) else test_df['True']\n",
    "    predictions_list = [test_df[model].to_numpy() if isinstance(test_df[model], cudf.Series) else test_df[model] for model in models_list]\n",
    "    \n",
    "    # Plot ROC curves\n",
    "    plt.figure(figsize=(7, 5))\n",
    "    for model, preds in zip(models_list, predictions_list):\n",
    "        fpr, tpr, _ = roc_curve(true_values, preds)\n",
    "        roc_auc = auc(fpr, tpr)\n",
    "        plt.plot(fpr, tpr, label=f'{model} (AUC = {roc_auc:.2f})')\n",
    "\n",
    "    # Plot random guess line\n",
    "    plt.plot([0, 1], [0, 1], 'r--', label='Random Guess')\n",
    "\n",
    "    # Set labels and title\n",
    "    plt.xlabel('False Positive Rate')\n",
    "    plt.ylabel('True Positive Rate')\n",
    "    plt.title('ROC Curves for Two Models')\n",
    "    plt.legend()\n",
    "    plt.show()"
   ]
  },
  {
   "cell_type": "code",
   "execution_count": 13,
   "id": "cc7e1137-fac6-4961-acb8-8704b9a1bdfd",
   "metadata": {},
   "outputs": [
    {
     "data": {
      "text/plain": [
       "'from dask_cuda import LocalCUDACluster\\nfrom dask.distributed import Client\\n\\ncluster = LocalCUDACluster(threads_per_worker=1, n_workers=n_workers)\\nc = Client(cluster)\\nworkers = c.has_what().keys()'"
      ]
     },
     "execution_count": 13,
     "metadata": {},
     "output_type": "execute_result"
    }
   ],
   "source": [
    "\"\"\"from dask_cuda import LocalCUDACluster\n",
    "from dask.distributed import Client\n",
    "\n",
    "cluster = LocalCUDACluster(threads_per_worker=1, n_workers=n_workers)\n",
    "c = Client(cluster)\n",
    "workers = c.has_what().keys()\"\"\""
   ]
  },
  {
   "cell_type": "code",
   "execution_count": 14,
   "id": "cfff38e1-5d89-4c4e-9a59-d45af2aa62e2",
   "metadata": {},
   "outputs": [
    {
     "name": "stdout",
     "output_type": "stream",
     "text": [
      "I see 1 GPU devices\n"
     ]
    }
   ],
   "source": [
    "from catboost.utils import get_gpu_device_count\n",
    "print('I see %i GPU devices' % get_gpu_device_count())"
   ]
  },
  {
   "cell_type": "code",
   "execution_count": 15,
   "id": "55ddb535-fd21-41a8-b58e-075c74c8f886",
   "metadata": {},
   "outputs": [],
   "source": [
    "X = df.drop(columns=['target'])\n",
    "y = df['target']\n",
    "X_train, X_test, y_train, y_test = train_test_split(X, y, test_size=0.2, random_state=42, stratify=y)"
   ]
  },
  {
   "cell_type": "code",
   "execution_count": 16,
   "id": "0666d81e-0991-477d-8b89-ccdbb92e10a7",
   "metadata": {
    "scrolled": true
   },
   "outputs": [
    {
     "name": "stdout",
     "output_type": "stream",
     "text": [
      "Logisitic Regression\n",
      "Training set performance\n",
      "              precision    recall  f1-score   support\n",
      "\n",
      "           0       1.00      1.00      1.00    300577\n",
      "           1       1.00      1.00      1.00    255482\n",
      "\n",
      "    accuracy                           1.00    556059\n",
      "   macro avg       1.00      1.00      1.00    556059\n",
      "weighted avg       1.00      1.00      1.00    556059\n",
      "\n",
      "Roc-Auc Score Training set: 0.9996442023800126\n",
      "Test set performance\n",
      "              precision    recall  f1-score   support\n",
      "\n",
      "           0       1.00      1.00      1.00     75144\n",
      "           1       1.00      1.00      1.00     63870\n",
      "\n",
      "    accuracy                           1.00    139014\n",
      "   macro avg       1.00      1.00      1.00    139014\n",
      "weighted avg       1.00      1.00      1.00    139014\n",
      "\n",
      "Roc-Auc Score Test set: 0.9996903874731176\n",
      "\u001b[34m\u001b[1m_.\u001b[34m\u001b[1m_.\u001b[34m\u001b[1m_.\u001b[34m\u001b[1m_.\u001b[34m\u001b[1m_.\u001b[34m\u001b[1m_.\u001b[34m\u001b[1m_.\u001b[34m\u001b[1m_.\u001b[34m\u001b[1m_.\u001b[34m\u001b[1m_.\u001b[34m\u001b[1m_.\u001b[34m\u001b[1m_.\u001b[34m\u001b[1m_.\u001b[34m\u001b[1m_.\u001b[34m\u001b[1m_.\u001b[34m\u001b[1m_.\u001b[34m\u001b[1m_.\u001b[34m\u001b[1m_.\u001b[34m\u001b[1m_.\u001b[34m\u001b[1m_.\u001b[34m\u001b[1m_.\u001b[34m\u001b[1m_.\u001b[34m\u001b[1m_.\u001b[34m\u001b[1m_.\u001b[34m\u001b[1m_.\u001b[34m\u001b[1m_.\u001b[34m\u001b[1m_.\u001b[34m\u001b[1m_.\u001b[34m\u001b[1m_.\u001b[34m\u001b[1m_.\u001b[34m\u001b[1m_.\u001b[34m\u001b[1m_.\u001b[34m\u001b[1m_.\u001b[34m\u001b[1m_.\u001b[34m\u001b[1m_.\u001b[34m\u001b[1m_.\u001b[34m\u001b[1m_.\u001b[34m\u001b[1m_.\u001b[34m\u001b[1m_.\u001b[34m\u001b[1m_.\n",
      "\u001b[0mSVM\n",
      "Training set performance\n",
      "              precision    recall  f1-score   support\n",
      "\n",
      "           0       1.00      1.00      1.00    300577\n",
      "           1       1.00      1.00      1.00    255482\n",
      "\n",
      "    accuracy                           1.00    556059\n",
      "   macro avg       1.00      1.00      1.00    556059\n",
      "weighted avg       1.00      1.00      1.00    556059\n",
      "\n",
      "Roc-Auc Score Training set: 0.9999863004047251\n",
      "Test set performance\n",
      "              precision    recall  f1-score   support\n",
      "\n",
      "           0       1.00      1.00      1.00     75144\n",
      "           1       1.00      1.00      1.00     63870\n",
      "\n",
      "    accuracy                           1.00    139014\n",
      "   macro avg       1.00      1.00      1.00    139014\n",
      "weighted avg       1.00      1.00      1.00    139014\n",
      "\n",
      "Roc-Auc Score Test set: 0.9998860975091283\n",
      "\u001b[34m\u001b[1m_.\u001b[34m\u001b[1m_.\u001b[34m\u001b[1m_.\u001b[34m\u001b[1m_.\u001b[34m\u001b[1m_.\u001b[34m\u001b[1m_.\u001b[34m\u001b[1m_.\u001b[34m\u001b[1m_.\u001b[34m\u001b[1m_.\u001b[34m\u001b[1m_.\u001b[34m\u001b[1m_.\u001b[34m\u001b[1m_.\u001b[34m\u001b[1m_.\u001b[34m\u001b[1m_.\u001b[34m\u001b[1m_.\u001b[34m\u001b[1m_.\u001b[34m\u001b[1m_.\u001b[34m\u001b[1m_.\u001b[34m\u001b[1m_.\u001b[34m\u001b[1m_.\u001b[34m\u001b[1m_.\u001b[34m\u001b[1m_.\u001b[34m\u001b[1m_.\u001b[34m\u001b[1m_.\u001b[34m\u001b[1m_.\u001b[34m\u001b[1m_.\u001b[34m\u001b[1m_.\u001b[34m\u001b[1m_.\u001b[34m\u001b[1m_.\u001b[34m\u001b[1m_.\u001b[34m\u001b[1m_.\u001b[34m\u001b[1m_.\u001b[34m\u001b[1m_.\u001b[34m\u001b[1m_.\u001b[34m\u001b[1m_.\u001b[34m\u001b[1m_.\u001b[34m\u001b[1m_.\u001b[34m\u001b[1m_.\u001b[34m\u001b[1m_.\u001b[34m\u001b[1m_.\n",
      "\u001b[0mRandom Forest\n",
      "Training set performance\n",
      "              precision    recall  f1-score   support\n",
      "\n",
      "           0       1.00      1.00      1.00    300577\n",
      "           1       1.00      1.00      1.00    255482\n",
      "\n",
      "    accuracy                           1.00    556059\n",
      "   macro avg       1.00      1.00      1.00    556059\n",
      "weighted avg       1.00      1.00      1.00    556059\n",
      "\n",
      "Roc-Auc Score Training set: 1.0\n",
      "Test set performance\n",
      "              precision    recall  f1-score   support\n",
      "\n",
      "           0       1.00      1.00      1.00     75144\n",
      "           1       1.00      1.00      1.00     63870\n",
      "\n",
      "    accuracy                           1.00    139014\n",
      "   macro avg       1.00      1.00      1.00    139014\n",
      "weighted avg       1.00      1.00      1.00    139014\n",
      "\n",
      "Roc-Auc Score Test set: 1.0\n",
      "\u001b[34m\u001b[1m_.\u001b[34m\u001b[1m_.\u001b[34m\u001b[1m_.\u001b[34m\u001b[1m_.\u001b[34m\u001b[1m_.\u001b[34m\u001b[1m_.\u001b[34m\u001b[1m_.\u001b[34m\u001b[1m_.\u001b[34m\u001b[1m_.\u001b[34m\u001b[1m_.\u001b[34m\u001b[1m_.\u001b[34m\u001b[1m_.\u001b[34m\u001b[1m_.\u001b[34m\u001b[1m_.\u001b[34m\u001b[1m_.\u001b[34m\u001b[1m_.\u001b[34m\u001b[1m_.\u001b[34m\u001b[1m_.\u001b[34m\u001b[1m_.\u001b[34m\u001b[1m_.\u001b[34m\u001b[1m_.\u001b[34m\u001b[1m_.\u001b[34m\u001b[1m_.\u001b[34m\u001b[1m_.\u001b[34m\u001b[1m_.\u001b[34m\u001b[1m_.\u001b[34m\u001b[1m_.\u001b[34m\u001b[1m_.\u001b[34m\u001b[1m_.\u001b[34m\u001b[1m_.\u001b[34m\u001b[1m_.\u001b[34m\u001b[1m_.\u001b[34m\u001b[1m_.\u001b[34m\u001b[1m_.\u001b[34m\u001b[1m_.\u001b[34m\u001b[1m_.\u001b[34m\u001b[1m_.\u001b[34m\u001b[1m_.\u001b[34m\u001b[1m_.\u001b[34m\u001b[1m_.\n",
      "\u001b[0m"
     ]
    },
    {
     "data": {
      "image/png": "[encoded data removed]",
      "text/plain": [
       "<Figure size 700x500 with 1 Axes>"
      ]
     },
     "metadata": {},
     "output_type": "display_data"
    },
    {
     "name": "stdout",
     "output_type": "stream",
     "text": [
      "Fit + Predict time (seconds): 117.22464847564697\n"
     ]
    }
   ],
   "source": [
    "models={\n",
    "    \"Logisitic Regression\":LogisticRegression(),\n",
    "    \"SVM\": SVC(probability=True),\n",
    "    \"Random Forest\":cuRF()\n",
    "}\n",
    "predictions={'True': y_test}\n",
    "target_names=['0','1']\n",
    "with Timer() as models_time:\n",
    "    for i in range(len(list(models))):\n",
    "        model = list(models.values())[i]\n",
    "        model.fit(X_train, y_train) # Train model\n",
    "        y_train_pred = model.predict(X_train)\n",
    "        y_test_pred = model.predict(X_test)\n",
    "        print(list(models.keys())[i])\n",
    "        predictions[list(models.keys())[i]] = model.predict_proba(X_test).iloc[:, 1]      \n",
    "        print(\"Training set performance\")\n",
    "        y_train = y_train.to_numpy() if isinstance(y_train, cudf.Series) else y_train\n",
    "        y_train_pred = y_train_pred.to_numpy() if isinstance(y_train_pred, cudf.Series) else y_train_pred\n",
    "        # Print classification report\n",
    "        print(classification_report(y_train, y_train_pred, target_names=target_names))\n",
    "        model_train_rocauc_score = roc_auc_score(y_train, y_train_pred)\n",
    "        print(f\"Roc-Auc Score Training set: {model_train_rocauc_score}\")\n",
    "        print(\"Test set performance\")\n",
    "        y_test = y_test.to_numpy() if isinstance(y_test, cudf.Series) else y_test\n",
    "        y_test_pred = y_test_pred.to_numpy() if isinstance(y_test_pred, cudf.Series) else y_test_pred\n",
    "        print(classification_report(y_test, y_test_pred, target_names=target_names))\n",
    "        model_test_rocauc_score = roc_auc_score(y_test, y_test_pred) #Calculate Roc\n",
    "        print(f\"Roc-Auc Score Test set: {model_test_rocauc_score}\")\n",
    "        print(f\"{Fore.BLUE}{Style.BRIGHT}_.\"*40) # print 50 times = character\n",
    "        print(Style.RESET_ALL, end=\"\")\n",
    "    plot_model_roc_auc_curve(list(models.keys()), predictions)\n",
    "print(f\"Fit + Predict time (seconds): {models_time.elapsed}\")"
   ]
  },
  {
   "cell_type": "code",
   "execution_count": 17,
   "id": "3ae3966e-b338-455e-89fb-a062a1f4d564",
   "metadata": {},
   "outputs": [],
   "source": [
    "pickle.dump(cuRF, open(\"cuRF.pkl\", \"wb\"))\n",
    "del cuRF"
   ]
  },
  {
   "cell_type": "markdown",
   "id": "cf31a915-0dbc-4cbb-94ac-a32b173c876f",
   "metadata": {},
   "source": [
    "<div style=\"background-color: #65aeeb; color: white; border-left: 6px solid #b3d4fc; padding: 10px; font-size: 12px; font-family: Verdana;\">\n",
    "    <ul>\n",
    "        <li>To compare Sklearn models on a per minute basis</li>\n",
    "    </ul>  \n",
    "</div>"
   ]
  },
  {
   "cell_type": "code",
   "execution_count": null,
   "id": "4a359d7e-7902-4503-bf1b-3f67d2aee5dd",
   "metadata": {},
   "outputs": [],
   "source": [
    "import sys\n",
    "import gc\n",
    "\n",
    "for name in list(sys.modules.keys()):\n",
    "    if name not in [\"__main__\", \"builtins\"]:\n",
    "        del sys.modules[name]\n",
    "\n",
    "for name in list(globals().keys()):\n",
    "    if name not in [\"__builtins__\", \"__name__\", \"__doc__\", \"__package__\", \"__file__\", \"__cached__\"]:\n",
    "        del globals()[name]\n",
    "gc.collect()\n",
    "print(\"All imports and variables in the environment have been cleared.\")"
   ]
  },
  {
   "cell_type": "code",
   "execution_count": 1,
   "id": "5420e1d3-a76a-420d-9860-67be6fd7cb4a",
   "metadata": {},
   "outputs": [],
   "source": [
    "import numpy as np # linear algebra\n",
    "import pandas as pd # data processing, CSV file I/O (e.g. pd.read_csv)\n",
    "import seaborn as sns\n",
    "import matplotlib.pyplot as plt\n",
    "\n",
    "from matplotlib.colors import LinearSegmentedColormap\n",
    "from collections import Counter\n",
    "!pip install colorama -q\n",
    "from colorama import Fore, Style\n",
    "\n",
    "from sklearn.linear_model import LogisticRegression as sklearnLogisticRegression\n",
    "from sklearn.ensemble import RandomForestClassifier as sklearnRandomForestClassifier\n",
    "from sklearn.svm import SVC as sklearnSVC\n",
    "from sklearn.model_selection import train_test_split\n",
    "from sklearn.metrics import accuracy_score, classification_report, ConfusionMatrixDisplay\n",
    "from sklearn.metrics import precision_score, recall_score, f1_score, roc_auc_score, roc_curve, auc"
   ]
  },
  {
   "cell_type": "code",
   "execution_count": 2,
   "id": "ad7f6afb-d231-4f1e-90b2-96bc49f4d3c5",
   "metadata": {},
   "outputs": [],
   "source": [
    "import time\n",
    "\n",
    "class Timer:    \n",
    "    def __enter__(self):\n",
    "        self.tick = time.time()\n",
    "        return self\n",
    "    def __exit__(self, *args, **kwargs):\n",
    "        self.tock = time.time()\n",
    "        self.elapsed = self.tock - self.tick"
   ]
  },
  {
   "cell_type": "code",
   "execution_count": 3,
   "id": "b97b8e22-6120-43be-89c1-564fb28a8e98",
   "metadata": {},
   "outputs": [],
   "source": [
    "df = pd.read_csv(\"df.csv\")\n",
    "X = df.drop(columns=['target'])\n",
    "y = df['target']\n",
    "X_train, X_test, y_train, y_test = train_test_split(X, y, test_size=0.2, random_state=42, stratify=y)"
   ]
  },
  {
   "cell_type": "code",
   "execution_count": 4,
   "id": "8744d01f-10b4-4304-84dc-92b1f420c3b8",
   "metadata": {},
   "outputs": [],
   "source": [
    "def plot_model_roc_auc_curve_sklearn(models_list:list, test_df):\n",
    "    plt.figure(figsize=(7, 5))\n",
    "\n",
    "    for model in models_list:\n",
    "        fpr, tpr, _ = roc_curve(test_df['True'], test_df[model])\n",
    "        roc_auc = auc(fpr, tpr)\n",
    "        plt.plot(fpr, tpr, label=f'{model} (AUC = {roc_auc:.2f})')\n",
    "\n",
    "    # Plot random guess line\n",
    "    plt.plot([0, 1], [0, 1], 'r--', label='Random Guess')\n",
    "\n",
    "    # Set labels and title\n",
    "    plt.xlabel('False Positive Rate')\n",
    "    plt.ylabel('True Positive Rate')\n",
    "    plt.title('ROC Curves for Two Models')\n",
    "    plt.legend()\n",
    "    plt.show()"
   ]
  },
  {
   "cell_type": "code",
   "execution_count": null,
   "id": "3792e42c-f805-4248-a799-fe9055bf0dde",
   "metadata": {
    "scrolled": true
   },
   "outputs": [
    {
     "name": "stdout",
     "output_type": "stream",
     "text": [
      "Logisitic Regression\n",
      "Training set performance\n",
      "              precision    recall  f1-score   support\n",
      "\n",
      "           0       1.00      1.00      1.00    300577\n",
      "           1       1.00      1.00      1.00    255481\n",
      "\n",
      "    accuracy                           1.00    556058\n",
      "   macro avg       1.00      1.00      1.00    556058\n",
      "weighted avg       1.00      1.00      1.00    556058\n",
      "\n",
      "Roc-Auc Score Training set: 0.9995590681223095\n",
      "Test set performance\n",
      "              precision    recall  f1-score   support\n",
      "\n",
      "           0       1.00      1.00      1.00     75144\n",
      "           1       1.00      1.00      1.00     63871\n",
      "\n",
      "    accuracy                           1.00    139015\n",
      "   macro avg       1.00      1.00      1.00    139015\n",
      "weighted avg       1.00      1.00      1.00    139015\n",
      "\n",
      "Roc-Auc Score Test set: 0.9996066297157902\n",
      "\u001b[34m\u001b[1m_.\u001b[34m\u001b[1m_.\u001b[34m\u001b[1m_.\u001b[34m\u001b[1m_.\u001b[34m\u001b[1m_.\u001b[34m\u001b[1m_.\u001b[34m\u001b[1m_.\u001b[34m\u001b[1m_.\u001b[34m\u001b[1m_.\u001b[34m\u001b[1m_.\u001b[34m\u001b[1m_.\u001b[34m\u001b[1m_.\u001b[34m\u001b[1m_.\u001b[34m\u001b[1m_.\u001b[34m\u001b[1m_.\u001b[34m\u001b[1m_.\u001b[34m\u001b[1m_.\u001b[34m\u001b[1m_.\u001b[34m\u001b[1m_.\u001b[34m\u001b[1m_.\u001b[34m\u001b[1m_.\u001b[34m\u001b[1m_.\u001b[34m\u001b[1m_.\u001b[34m\u001b[1m_.\u001b[34m\u001b[1m_.\u001b[34m\u001b[1m_.\u001b[34m\u001b[1m_.\u001b[34m\u001b[1m_.\u001b[34m\u001b[1m_.\u001b[34m\u001b[1m_.\u001b[34m\u001b[1m_.\u001b[34m\u001b[1m_.\u001b[34m\u001b[1m_.\u001b[34m\u001b[1m_.\u001b[34m\u001b[1m_.\u001b[34m\u001b[1m_.\u001b[34m\u001b[1m_.\u001b[34m\u001b[1m_.\u001b[34m\u001b[1m_.\u001b[34m\u001b[1m_.\n",
      "\u001b[0m"
     ]
    }
   ],
   "source": [
    "models={\n",
    "    \"Logisitic Regression\":sklearnLogisticRegression(n_jobs=-1),\n",
    "    \"SVM\": sklearnSVC(probability=True),\n",
    "    \"Random Forest\":sklearnRandomForestClassifier(n_jobs=-1)\n",
    "}\n",
    "predictions={'True': y_test}\n",
    "target_names=['0','1']\n",
    "with Timer() as models_time:\n",
    "    for i in range(len(list(models))):\n",
    "        model = list(models.values())[i]\n",
    "        model.fit(X_train, y_train) # Train model\n",
    "        y_train_pred = model.predict(X_train)\n",
    "        y_test_pred = model.predict(X_test)\n",
    "        print(list(models.keys())[i])\n",
    "        predictions[list(models.keys())[i]] = model.predict_proba(X_test)[:, 1]      \n",
    "        print(\"Training set performance\")\n",
    "        \n",
    "        # Print classification report\n",
    "        print(classification_report(y_train, y_train_pred, target_names=target_names))\n",
    "        model_train_rocauc_score = roc_auc_score(y_train, y_train_pred)\n",
    "        print(f\"Roc-Auc Score Training set: {model_train_rocauc_score}\")\n",
    "        print(\"Test set performance\")\n",
    "       \n",
    "        print(classification_report(y_test, y_test_pred, target_names=target_names))\n",
    "        model_test_rocauc_score = roc_auc_score(y_test, y_test_pred) #Calculate Roc\n",
    "        print(f\"Roc-Auc Score Test set: {model_test_rocauc_score}\")\n",
    "        print(f\"{Fore.BLUE}{Style.BRIGHT}_.\"*40) # print 50 times = character\n",
    "        print(Style.RESET_ALL, end=\"\")\n",
    "    plot_model_roc_auc_curve_sklearn(list(models.keys()), predictions)\n",
    "print(f\"Fit + Predict time (seconds): {models_time.elapsed}\")"
   ]
  },
  {
   "cell_type": "markdown",
   "id": "535bd805-0528-4131-a294-de8837cf2bc8",
   "metadata": {},
   "source": [
    "<div style=\"background-color: #65aeeb; color: white; border-left: 6px solid #b3d4fc; padding: 10px; font-size: 12px; font-family: Verdana;\">\n",
    "    <ul>\n",
    "        <li>I don't want to wait for Sklearn to finish. It takes more than 1 hour. I have plotted the times approximate.</li>\n",
    "    </ul>  \n",
    "</div>"
   ]
  },
  {
   "cell_type": "code",
   "execution_count": 14,
   "id": "8f2f2b2d-274d-49cc-a200-fa215f9cc742",
   "metadata": {},
   "outputs": [
    {
     "data": {
      "application/vnd.plotly.v1+json": {
       "config": {
        "plotlyServerURL": "https://plot.ly"
       },
       "data": [
        {
         "marker": {
          "color": [
           "purple",
           "orange"
          ]
         },
         "text": [
          "117",
          "3600"
         ],
         "textposition": "auto",
         "type": "bar",
         "x": [
          "Rapids Ai",
          "CPU"
         ],
         "y": [
          117,
          3600
         ]
        }
       ],
       "layout": {
        "autosize": true,
        "template": {
         "data": {
          "bar": [
           {
            "error_x": {
             "color": "#2a3f5f"
            },
            "error_y": {
             "color": "#2a3f5f"
            },
            "marker": {
             "line": {
              "color": "#E5ECF6",
              "width": 0.5
             },
             "pattern": {
              "fillmode": "overlay",
              "size": 10,
              "solidity": 0.2
             }
            },
            "type": "bar"
           }
          ],
          "barpolar": [
           {
            "marker": {
             "line": {
              "color": "#E5ECF6",
              "width": 0.5
             },
             "pattern": {
              "fillmode": "overlay",
              "size": 10,
              "solidity": 0.2
             }
            },
            "type": "barpolar"
           }
          ],
          "carpet": [
           {
            "aaxis": {
             "endlinecolor": "#2a3f5f",
             "gridcolor": "white",
             "linecolor": "white",
             "minorgridcolor": "white",
             "startlinecolor": "#2a3f5f"
            },
            "baxis": {
             "endlinecolor": "#2a3f5f",
             "gridcolor": "white",
             "linecolor": "white",
             "minorgridcolor": "white",
             "startlinecolor": "#2a3f5f"
            },
            "type": "carpet"
           }
          ],
          "choropleth": [
           {
            "colorbar": {
             "outlinewidth": 0,
             "ticks": ""
            },
            "type": "choropleth"
           }
          ],
          "contour": [
           {
            "colorbar": {
             "outlinewidth": 0,
             "ticks": ""
            },
            "colorscale": [
             [
              0,
              "#0d0887"
             ],
             [
              0.1111111111111111,
              "#46039f"
             ],
             [
              0.2222222222222222,
              "#7201a8"
             ],
             [
              0.3333333333333333,
              "#9c179e"
             ],
             [
              0.4444444444444444,
              "#bd3786"
             ],
             [
              0.5555555555555556,
              "#d8576b"
             ],
             [
              0.6666666666666666,
              "#ed7953"
             ],
             [
              0.7777777777777778,
              "#fb9f3a"
             ],
             [
              0.8888888888888888,
              "#fdca26"
             ],
             [
              1,
              "#f0f921"
             ]
            ],
            "type": "contour"
           }
          ],
          "contourcarpet": [
           {
            "colorbar": {
             "outlinewidth": 0,
             "ticks": ""
            },
            "type": "contourcarpet"
           }
          ],
          "heatmap": [
           {
            "colorbar": {
             "outlinewidth": 0,
             "ticks": ""
            },
            "colorscale": [
             [
              0,
              "#0d0887"
             ],
             [
              0.1111111111111111,
              "#46039f"
             ],
             [
              0.2222222222222222,
              "#7201a8"
             ],
             [
              0.3333333333333333,
              "#9c179e"
             ],
             [
              0.4444444444444444,
              "#bd3786"
             ],
             [
              0.5555555555555556,
              "#d8576b"
             ],
             [
              0.6666666666666666,
              "#ed7953"
             ],
             [
              0.7777777777777778,
              "#fb9f3a"
             ],
             [
              0.8888888888888888,
              "#fdca26"
             ],
             [
              1,
              "#f0f921"
             ]
            ],
            "type": "heatmap"
           }
          ],
          "heatmapgl": [
           {
            "colorbar": {
             "outlinewidth": 0,
             "ticks": ""
            },
            "colorscale": [
             [
              0,
              "#0d0887"
             ],
             [
              0.1111111111111111,
              "#46039f"
             ],
             [
              0.2222222222222222,
              "#7201a8"
             ],
             [
              0.3333333333333333,
              "#9c179e"
             ],
             [
              0.4444444444444444,
              "#bd3786"
             ],
             [
              0.5555555555555556,
              "#d8576b"
             ],
             [
              0.6666666666666666,
              "#ed7953"
             ],
             [
              0.7777777777777778,
              "#fb9f3a"
             ],
             [
              0.8888888888888888,
              "#fdca26"
             ],
             [
              1,
              "#f0f921"
             ]
            ],
            "type": "heatmapgl"
           }
          ],
          "histogram": [
           {
            "marker": {
             "pattern": {
              "fillmode": "overlay",
              "size": 10,
              "solidity": 0.2
             }
            },
            "type": "histogram"
           }
          ],
          "histogram2d": [
           {
            "colorbar": {
             "outlinewidth": 0,
             "ticks": ""
            },
            "colorscale": [
             [
              0,
              "#0d0887"
             ],
             [
              0.1111111111111111,
              "#46039f"
             ],
             [
              0.2222222222222222,
              "#7201a8"
             ],
             [
              0.3333333333333333,
              "#9c179e"
             ],
             [
              0.4444444444444444,
              "#bd3786"
             ],
             [
              0.5555555555555556,
              "#d8576b"
             ],
             [
              0.6666666666666666,
              "#ed7953"
             ],
             [
              0.7777777777777778,
              "#fb9f3a"
             ],
             [
              0.8888888888888888,
              "#fdca26"
             ],
             [
              1,
              "#f0f921"
             ]
            ],
            "type": "histogram2d"
           }
          ],
          "histogram2dcontour": [
           {
            "colorbar": {
             "outlinewidth": 0,
             "ticks": ""
            },
            "colorscale": [
             [
              0,
              "#0d0887"
             ],
             [
              0.1111111111111111,
              "#46039f"
             ],
             [
              0.2222222222222222,
              "#7201a8"
             ],
             [
              0.3333333333333333,
              "#9c179e"
             ],
             [
              0.4444444444444444,
              "#bd3786"
             ],
             [
              0.5555555555555556,
              "#d8576b"
             ],
             [
              0.6666666666666666,
              "#ed7953"
             ],
             [
              0.7777777777777778,
              "#fb9f3a"
             ],
             [
              0.8888888888888888,
              "#fdca26"
             ],
             [
              1,
              "#f0f921"
             ]
            ],
            "type": "histogram2dcontour"
           }
          ],
          "mesh3d": [
           {
            "colorbar": {
             "outlinewidth": 0,
             "ticks": ""
            },
            "type": "mesh3d"
           }
          ],
          "parcoords": [
           {
            "line": {
             "colorbar": {
              "outlinewidth": 0,
              "ticks": ""
             }
            },
            "type": "parcoords"
           }
          ],
          "pie": [
           {
            "automargin": true,
            "type": "pie"
           }
          ],
          "scatter": [
           {
            "fillpattern": {
             "fillmode": "overlay",
             "size": 10,
             "solidity": 0.2
            },
            "type": "scatter"
           }
          ],
          "scatter3d": [
           {
            "line": {
             "colorbar": {
              "outlinewidth": 0,
              "ticks": ""
             }
            },
            "marker": {
             "colorbar": {
              "outlinewidth": 0,
              "ticks": ""
             }
            },
            "type": "scatter3d"
           }
          ],
          "scattercarpet": [
           {
            "marker": {
             "colorbar": {
              "outlinewidth": 0,
              "ticks": ""
             }
            },
            "type": "scattercarpet"
           }
          ],
          "scattergeo": [
           {
            "marker": {
             "colorbar": {
              "outlinewidth": 0,
              "ticks": ""
             }
            },
            "type": "scattergeo"
           }
          ],
          "scattergl": [
           {
            "marker": {
             "colorbar": {
              "outlinewidth": 0,
              "ticks": ""
             }
            },
            "type": "scattergl"
           }
          ],
          "scattermapbox": [
           {
            "marker": {
             "colorbar": {
              "outlinewidth": 0,
              "ticks": ""
             }
            },
            "type": "scattermapbox"
           }
          ],
          "scatterpolar": [
           {
            "marker": {
             "colorbar": {
              "outlinewidth": 0,
              "ticks": ""
             }
            },
            "type": "scatterpolar"
           }
          ],
          "scatterpolargl": [
           {
            "marker": {
             "colorbar": {
              "outlinewidth": 0,
              "ticks": ""
             }
            },
            "type": "scatterpolargl"
           }
          ],
          "scatterternary": [
           {
            "marker": {
             "colorbar": {
              "outlinewidth": 0,
              "ticks": ""
             }
            },
            "type": "scatterternary"
           }
          ],
          "surface": [
           {
            "colorbar": {
             "outlinewidth": 0,
             "ticks": ""
            },
            "colorscale": [
             [
              0,
              "#0d0887"
             ],
             [
              0.1111111111111111,
              "#46039f"
             ],
             [
              0.2222222222222222,
              "#7201a8"
             ],
             [
              0.3333333333333333,
              "#9c179e"
             ],
             [
              0.4444444444444444,
              "#bd3786"
             ],
             [
              0.5555555555555556,
              "#d8576b"
             ],
             [
              0.6666666666666666,
              "#ed7953"
             ],
             [
              0.7777777777777778,
              "#fb9f3a"
             ],
             [
              0.8888888888888888,
              "#fdca26"
             ],
             [
              1,
              "#f0f921"
             ]
            ],
            "type": "surface"
           }
          ],
          "table": [
           {
            "cells": {
             "fill": {
              "color": "#EBF0F8"
             },
             "line": {
              "color": "white"
             }
            },
            "header": {
             "fill": {
              "color": "#C8D4E3"
             },
             "line": {
              "color": "white"
             }
            },
            "type": "table"
           }
          ]
         },
         "layout": {
          "annotationdefaults": {
           "arrowcolor": "#2a3f5f",
           "arrowhead": 0,
           "arrowwidth": 1
          },
          "autotypenumbers": "strict",
          "coloraxis": {
           "colorbar": {
            "outlinewidth": 0,
            "ticks": ""
           }
          },
          "colorscale": {
           "diverging": [
            [
             0,
             "#8e0152"
            ],
            [
             0.1,
             "#c51b7d"
            ],
            [
             0.2,
             "#de77ae"
            ],
            [
             0.3,
             "#f1b6da"
            ],
            [
             0.4,
             "#fde0ef"
            ],
            [
             0.5,
             "#f7f7f7"
            ],
            [
             0.6,
             "#e6f5d0"
            ],
            [
             0.7,
             "#b8e186"
            ],
            [
             0.8,
             "#7fbc41"
            ],
            [
             0.9,
             "#4d9221"
            ],
            [
             1,
             "#276419"
            ]
           ],
           "sequential": [
            [
             0,
             "#0d0887"
            ],
            [
             0.1111111111111111,
             "#46039f"
            ],
            [
             0.2222222222222222,
             "#7201a8"
            ],
            [
             0.3333333333333333,
             "#9c179e"
            ],
            [
             0.4444444444444444,
             "#bd3786"
            ],
            [
             0.5555555555555556,
             "#d8576b"
            ],
            [
             0.6666666666666666,
             "#ed7953"
            ],
            [
             0.7777777777777778,
             "#fb9f3a"
            ],
            [
             0.8888888888888888,
             "#fdca26"
            ],
            [
             1,
             "#f0f921"
            ]
           ],
           "sequentialminus": [
            [
             0,
             "#0d0887"
            ],
            [
             0.1111111111111111,
             "#46039f"
            ],
            [
             0.2222222222222222,
             "#7201a8"
            ],
            [
             0.3333333333333333,
             "#9c179e"
            ],
            [
             0.4444444444444444,
             "#bd3786"
            ],
            [
             0.5555555555555556,
             "#d8576b"
            ],
            [
             0.6666666666666666,
             "#ed7953"
            ],
            [
             0.7777777777777778,
             "#fb9f3a"
            ],
            [
             0.8888888888888888,
             "#fdca26"
            ],
            [
             1,
             "#f0f921"
            ]
           ]
          },
          "colorway": [
           "#636efa",
           "#EF553B",
           "#00cc96",
           "#ab63fa",
           "#FFA15A",
           "#19d3f3",
           "#FF6692",
           "#B6E880",
           "#FF97FF",
           "#FECB52"
          ],
          "font": {
           "color": "#2a3f5f"
          },
          "geo": {
           "bgcolor": "white",
           "lakecolor": "white",
           "landcolor": "#E5ECF6",
           "showlakes": true,
           "showland": true,
           "subunitcolor": "white"
          },
          "hoverlabel": {
           "align": "left"
          },
          "hovermode": "closest",
          "mapbox": {
           "style": "light"
          },
          "paper_bgcolor": "white",
          "plot_bgcolor": "#E5ECF6",
          "polar": {
           "angularaxis": {
            "gridcolor": "white",
            "linecolor": "white",
            "ticks": ""
           },
           "bgcolor": "#E5ECF6",
           "radialaxis": {
            "gridcolor": "white",
            "linecolor": "white",
            "ticks": ""
           }
          },
          "scene": {
           "xaxis": {
            "backgroundcolor": "#E5ECF6",
            "gridcolor": "white",
            "gridwidth": 2,
            "linecolor": "white",
            "showbackground": true,
            "ticks": "",
            "zerolinecolor": "white"
           },
           "yaxis": {
            "backgroundcolor": "#E5ECF6",
            "gridcolor": "white",
            "gridwidth": 2,
            "linecolor": "white",
            "showbackground": true,
            "ticks": "",
            "zerolinecolor": "white"
           },
           "zaxis": {
            "backgroundcolor": "#E5ECF6",
            "gridcolor": "white",
            "gridwidth": 2,
            "linecolor": "white",
            "showbackground": true,
            "ticks": "",
            "zerolinecolor": "white"
           }
          },
          "shapedefaults": {
           "line": {
            "color": "#2a3f5f"
           }
          },
          "ternary": {
           "aaxis": {
            "gridcolor": "white",
            "linecolor": "white",
            "ticks": ""
           },
           "baxis": {
            "gridcolor": "white",
            "linecolor": "white",
            "ticks": ""
           },
           "bgcolor": "#E5ECF6",
           "caxis": {
            "gridcolor": "white",
            "linecolor": "white",
            "ticks": ""
           }
          },
          "title": {
           "x": 0.05
          },
          "xaxis": {
           "automargin": true,
           "gridcolor": "white",
           "linecolor": "white",
           "ticks": "",
           "title": {
            "standoff": 15
           },
           "zerolinecolor": "white",
           "zerolinewidth": 2
          },
          "yaxis": {
           "automargin": true,
           "gridcolor": "white",
           "linecolor": "white",
           "ticks": "",
           "title": {
            "standoff": 15
           },
           "zerolinecolor": "white",
           "zerolinewidth": 2
          }
         }
        },
        "xaxis": {
         "autorange": true,
         "range": [
          -0.5,
          1.5
         ],
         "type": "category"
        },
        "yaxis": {
         "autorange": true,
         "range": [
          0,
          3789.4736842105262
         ],
         "type": "linear"
        }
       }
      },
      "image/png": "[encoded data removed]",
      "text/html": [
       "<div>                            <div id=\"9044602c-f53d-42ca-8754-ea81dd15dca0\" class=\"plotly-graph-div\" style=\"height:525px; width:100%;\"></div>            <script type=\"text/javascript\">                require([\"plotly\"], function(Plotly) {                    window.PLOTLYENV=window.PLOTLYENV || {};                                    if (document.getElementById(\"9044602c-f53d-42ca-8754-ea81dd15dca0\")) {                    Plotly.newPlot(                        \"9044602c-f53d-42ca-8754-ea81dd15dca0\",                        [{\"marker\":{\"color\":[\"purple\",\"orange\"]},\"text\":[\"117\",\"3600\"],\"textposition\":\"auto\",\"x\":[\"Rapids Ai\",\"CPU\"],\"y\":[117,3600],\"type\":\"bar\"}],                        {\"template\":{\"data\":{\"histogram2dcontour\":[{\"type\":\"histogram2dcontour\",\"colorbar\":{\"outlinewidth\":0,\"ticks\":\"\"},\"colorscale\":[[0.0,\"#0d0887\"],[0.1111111111111111,\"#46039f\"],[0.2222222222222222,\"#7201a8\"],[0.3333333333333333,\"#9c179e\"],[0.4444444444444444,\"#bd3786\"],[0.5555555555555556,\"#d8576b\"],[0.6666666666666666,\"#ed7953\"],[0.7777777777777778,\"#fb9f3a\"],[0.8888888888888888,\"#fdca26\"],[1.0,\"#f0f921\"]]}],\"choropleth\":[{\"type\":\"choropleth\",\"colorbar\":{\"outlinewidth\":0,\"ticks\":\"\"}}],\"histogram2d\":[{\"type\":\"histogram2d\",\"colorbar\":{\"outlinewidth\":0,\"ticks\":\"\"},\"colorscale\":[[0.0,\"#0d0887\"],[0.1111111111111111,\"#46039f\"],[0.2222222222222222,\"#7201a8\"],[0.3333333333333333,\"#9c179e\"],[0.4444444444444444,\"#bd3786\"],[0.5555555555555556,\"#d8576b\"],[0.6666666666666666,\"#ed7953\"],[0.7777777777777778,\"#fb9f3a\"],[0.8888888888888888,\"#fdca26\"],[1.0,\"#f0f921\"]]}],\"heatmap\":[{\"type\":\"heatmap\",\"colorbar\":{\"outlinewidth\":0,\"ticks\":\"\"},\"colorscale\":[[0.0,\"#0d0887\"],[0.1111111111111111,\"#46039f\"],[0.2222222222222222,\"#7201a8\"],[0.3333333333333333,\"#9c179e\"],[0.4444444444444444,\"#bd3786\"],[0.5555555555555556,\"#d8576b\"],[0.6666666666666666,\"#ed7953\"],[0.7777777777777778,\"#fb9f3a\"],[0.8888888888888888,\"#fdca26\"],[1.0,\"#f0f921\"]]}],\"heatmapgl\":[{\"type\":\"heatmapgl\",\"colorbar\":{\"outlinewidth\":0,\"ticks\":\"\"},\"colorscale\":[[0.0,\"#0d0887\"],[0.1111111111111111,\"#46039f\"],[0.2222222222222222,\"#7201a8\"],[0.3333333333333333,\"#9c179e\"],[0.4444444444444444,\"#bd3786\"],[0.5555555555555556,\"#d8576b\"],[0.6666666666666666,\"#ed7953\"],[0.7777777777777778,\"#fb9f3a\"],[0.8888888888888888,\"#fdca26\"],[1.0,\"#f0f921\"]]}],\"contourcarpet\":[{\"type\":\"contourcarpet\",\"colorbar\":{\"outlinewidth\":0,\"ticks\":\"\"}}],\"contour\":[{\"type\":\"contour\",\"colorbar\":{\"outlinewidth\":0,\"ticks\":\"\"},\"colorscale\":[[0.0,\"#0d0887\"],[0.1111111111111111,\"#46039f\"],[0.2222222222222222,\"#7201a8\"],[0.3333333333333333,\"#9c179e\"],[0.4444444444444444,\"#bd3786\"],[0.5555555555555556,\"#d8576b\"],[0.6666666666666666,\"#ed7953\"],[0.7777777777777778,\"#fb9f3a\"],[0.8888888888888888,\"#fdca26\"],[1.0,\"#f0f921\"]]}],\"surface\":[{\"type\":\"surface\",\"colorbar\":{\"outlinewidth\":0,\"ticks\":\"\"},\"colorscale\":[[0.0,\"#0d0887\"],[0.1111111111111111,\"#46039f\"],[0.2222222222222222,\"#7201a8\"],[0.3333333333333333,\"#9c179e\"],[0.4444444444444444,\"#bd3786\"],[0.5555555555555556,\"#d8576b\"],[0.6666666666666666,\"#ed7953\"],[0.7777777777777778,\"#fb9f3a\"],[0.8888888888888888,\"#fdca26\"],[1.0,\"#f0f921\"]]}],\"mesh3d\":[{\"type\":\"mesh3d\",\"colorbar\":{\"outlinewidth\":0,\"ticks\":\"\"}}],\"scatter\":[{\"fillpattern\":{\"fillmode\":\"overlay\",\"size\":10,\"solidity\":0.2},\"type\":\"scatter\"}],\"parcoords\":[{\"type\":\"parcoords\",\"line\":{\"colorbar\":{\"outlinewidth\":0,\"ticks\":\"\"}}}],\"scatterpolargl\":[{\"type\":\"scatterpolargl\",\"marker\":{\"colorbar\":{\"outlinewidth\":0,\"ticks\":\"\"}}}],\"bar\":[{\"error_x\":{\"color\":\"#2a3f5f\"},\"error_y\":{\"color\":\"#2a3f5f\"},\"marker\":{\"line\":{\"color\":\"#E5ECF6\",\"width\":0.5},\"pattern\":{\"fillmode\":\"overlay\",\"size\":10,\"solidity\":0.2}},\"type\":\"bar\"}],\"scattergeo\":[{\"type\":\"scattergeo\",\"marker\":{\"colorbar\":{\"outlinewidth\":0,\"ticks\":\"\"}}}],\"scatterpolar\":[{\"type\":\"scatterpolar\",\"marker\":{\"colorbar\":{\"outlinewidth\":0,\"ticks\":\"\"}}}],\"histogram\":[{\"marker\":{\"pattern\":{\"fillmode\":\"overlay\",\"size\":10,\"solidity\":0.2}},\"type\":\"histogram\"}],\"scattergl\":[{\"type\":\"scattergl\",\"marker\":{\"colorbar\":{\"outlinewidth\":0,\"ticks\":\"\"}}}],\"scatter3d\":[{\"type\":\"scatter3d\",\"line\":{\"colorbar\":{\"outlinewidth\":0,\"ticks\":\"\"}},\"marker\":{\"colorbar\":{\"outlinewidth\":0,\"ticks\":\"\"}}}],\"scattermapbox\":[{\"type\":\"scattermapbox\",\"marker\":{\"colorbar\":{\"outlinewidth\":0,\"ticks\":\"\"}}}],\"scatterternary\":[{\"type\":\"scatterternary\",\"marker\":{\"colorbar\":{\"outlinewidth\":0,\"ticks\":\"\"}}}],\"scattercarpet\":[{\"type\":\"scattercarpet\",\"marker\":{\"colorbar\":{\"outlinewidth\":0,\"ticks\":\"\"}}}],\"carpet\":[{\"aaxis\":{\"endlinecolor\":\"#2a3f5f\",\"gridcolor\":\"white\",\"linecolor\":\"white\",\"minorgridcolor\":\"white\",\"startlinecolor\":\"#2a3f5f\"},\"baxis\":{\"endlinecolor\":\"#2a3f5f\",\"gridcolor\":\"white\",\"linecolor\":\"white\",\"minorgridcolor\":\"white\",\"startlinecolor\":\"#2a3f5f\"},\"type\":\"carpet\"}],\"table\":[{\"cells\":{\"fill\":{\"color\":\"#EBF0F8\"},\"line\":{\"color\":\"white\"}},\"header\":{\"fill\":{\"color\":\"#C8D4E3\"},\"line\":{\"color\":\"white\"}},\"type\":\"table\"}],\"barpolar\":[{\"marker\":{\"line\":{\"color\":\"#E5ECF6\",\"width\":0.5},\"pattern\":{\"fillmode\":\"overlay\",\"size\":10,\"solidity\":0.2}},\"type\":\"barpolar\"}],\"pie\":[{\"automargin\":true,\"type\":\"pie\"}]},\"layout\":{\"autotypenumbers\":\"strict\",\"colorway\":[\"#636efa\",\"#EF553B\",\"#00cc96\",\"#ab63fa\",\"#FFA15A\",\"#19d3f3\",\"#FF6692\",\"#B6E880\",\"#FF97FF\",\"#FECB52\"],\"font\":{\"color\":\"#2a3f5f\"},\"hovermode\":\"closest\",\"hoverlabel\":{\"align\":\"left\"},\"paper_bgcolor\":\"white\",\"plot_bgcolor\":\"#E5ECF6\",\"polar\":{\"bgcolor\":\"#E5ECF6\",\"angularaxis\":{\"gridcolor\":\"white\",\"linecolor\":\"white\",\"ticks\":\"\"},\"radialaxis\":{\"gridcolor\":\"white\",\"linecolor\":\"white\",\"ticks\":\"\"}},\"ternary\":{\"bgcolor\":\"#E5ECF6\",\"aaxis\":{\"gridcolor\":\"white\",\"linecolor\":\"white\",\"ticks\":\"\"},\"baxis\":{\"gridcolor\":\"white\",\"linecolor\":\"white\",\"ticks\":\"\"},\"caxis\":{\"gridcolor\":\"white\",\"linecolor\":\"white\",\"ticks\":\"\"}},\"coloraxis\":{\"colorbar\":{\"outlinewidth\":0,\"ticks\":\"\"}},\"colorscale\":{\"sequential\":[[0.0,\"#0d0887\"],[0.1111111111111111,\"#46039f\"],[0.2222222222222222,\"#7201a8\"],[0.3333333333333333,\"#9c179e\"],[0.4444444444444444,\"#bd3786\"],[0.5555555555555556,\"#d8576b\"],[0.6666666666666666,\"#ed7953\"],[0.7777777777777778,\"#fb9f3a\"],[0.8888888888888888,\"#fdca26\"],[1.0,\"#f0f921\"]],\"sequentialminus\":[[0.0,\"#0d0887\"],[0.1111111111111111,\"#46039f\"],[0.2222222222222222,\"#7201a8\"],[0.3333333333333333,\"#9c179e\"],[0.4444444444444444,\"#bd3786\"],[0.5555555555555556,\"#d8576b\"],[0.6666666666666666,\"#ed7953\"],[0.7777777777777778,\"#fb9f3a\"],[0.8888888888888888,\"#fdca26\"],[1.0,\"#f0f921\"]],\"diverging\":[[0,\"#8e0152\"],[0.1,\"#c51b7d\"],[0.2,\"#de77ae\"],[0.3,\"#f1b6da\"],[0.4,\"#fde0ef\"],[0.5,\"#f7f7f7\"],[0.6,\"#e6f5d0\"],[0.7,\"#b8e186\"],[0.8,\"#7fbc41\"],[0.9,\"#4d9221\"],[1,\"#276419\"]]},\"xaxis\":{\"gridcolor\":\"white\",\"linecolor\":\"white\",\"ticks\":\"\",\"title\":{\"standoff\":15},\"zerolinecolor\":\"white\",\"automargin\":true,\"zerolinewidth\":2},\"yaxis\":{\"gridcolor\":\"white\",\"linecolor\":\"white\",\"ticks\":\"\",\"title\":{\"standoff\":15},\"zerolinecolor\":\"white\",\"automargin\":true,\"zerolinewidth\":2},\"scene\":{\"xaxis\":{\"backgroundcolor\":\"#E5ECF6\",\"gridcolor\":\"white\",\"linecolor\":\"white\",\"showbackground\":true,\"ticks\":\"\",\"zerolinecolor\":\"white\",\"gridwidth\":2},\"yaxis\":{\"backgroundcolor\":\"#E5ECF6\",\"gridcolor\":\"white\",\"linecolor\":\"white\",\"showbackground\":true,\"ticks\":\"\",\"zerolinecolor\":\"white\",\"gridwidth\":2},\"zaxis\":{\"backgroundcolor\":\"#E5ECF6\",\"gridcolor\":\"white\",\"linecolor\":\"white\",\"showbackground\":true,\"ticks\":\"\",\"zerolinecolor\":\"white\",\"gridwidth\":2}},\"shapedefaults\":{\"line\":{\"color\":\"#2a3f5f\"}},\"annotationdefaults\":{\"arrowcolor\":\"#2a3f5f\",\"arrowhead\":0,\"arrowwidth\":1},\"geo\":{\"bgcolor\":\"white\",\"landcolor\":\"#E5ECF6\",\"subunitcolor\":\"white\",\"showland\":true,\"showlakes\":true,\"lakecolor\":\"white\"},\"title\":{\"x\":0.05},\"mapbox\":{\"style\":\"light\"}}}},                        {\"responsive\": true}                    ).then(function(){\n",
       "                            \n",
       "var gd = document.getElementById('9044602c-f53d-42ca-8754-ea81dd15dca0');\n",
       "var x = new MutationObserver(function (mutations, observer) {{\n",
       "        var display = window.getComputedStyle(gd).display;\n",
       "        if (!display || display === 'none') {{\n",
       "            console.log([gd, 'removed!']);\n",
       "            Plotly.purge(gd);\n",
       "            observer.disconnect();\n",
       "        }}\n",
       "}});\n",
       "\n",
       "// Listen for the removal of the full notebook cells\n",
       "var notebookContainer = gd.closest('#notebook-container');\n",
       "if (notebookContainer) {{\n",
       "    x.observe(notebookContainer, {childList: true});\n",
       "}}\n",
       "\n",
       "// Listen for the clearing of the current output cell\n",
       "var outputEl = gd.closest('.output');\n",
       "if (outputEl) {{\n",
       "    x.observe(outputEl, {childList: true});\n",
       "}}\n",
       "\n",
       "                        })                };                });            </script>        </div>"
      ]
     },
     "metadata": {},
     "output_type": "display_data"
    }
   ],
   "source": [
    "import plotly.graph_objects as go\n",
    "\n",
    "x = ['Rapids Ai', 'CPU']\n",
    "y = [117, 3600]\n",
    "\n",
    "fig = go.Figure(data=[go.Bar(x=x, y=y, text=y, textposition='auto', marker=dict(color=[ 'purple', 'orange']))])\n",
    "fig.show()"
   ]
  },
  {
   "attachments": {
    "36fc5968-953d-4b82-8a55-b8e61bfa149d.PNG": {
     "image/png": "[encoded data removed]"
    }
   },
   "cell_type": "markdown",
   "id": "f7dfe295-82d3-4894-9e3a-650b7e15601a",
   "metadata": {},
   "source": [
    "### If above graph is not shown see below image: \n",
    "![Ekran Alıntısı.PNG](attachment:36fc5968-953d-4b82-8a55-b8e61bfa149d.PNG)"
   ]
  },
  {
   "cell_type": "code",
   "execution_count": 25,
   "id": "2d20b610-0431-4dbb-8c82-1f470933a637",
   "metadata": {},
   "outputs": [
    {
     "data": {
      "image/png": "[encoded data removed]",
      "text/plain": [
       "<Figure size 700x300 with 1 Axes>"
      ]
     },
     "metadata": {},
     "output_type": "display_data"
    }
   ],
   "source": [
    "import matplotlib.pyplot as plt \n",
    "\n",
    "x = ['Rapids Ai', 'CPU']\n",
    "y = [117, 3600]\n",
    " \n",
    "fig = plt.figure(figsize = (7, 3))\n",
    "plt.bar(x, y, color =['blue', 'orange'])\n",
    "\n",
    "plt.ylabel(\"Minute\")\n",
    "plt.title(\"Library Types\")\n",
    "plt.show()"
   ]
  },
  {
   "cell_type": "markdown",
   "id": "c4f98124-8ff2-42b5-a95d-c491fa8eee1c",
   "metadata": {},
   "source": [
    "<div style=\"background-color: #eb347a; color: white; border-left: 6px solid #b3d4fc; padding: 10px; font-size: 14px; font-family: Verdana;\">\n",
    "    <ul>\n",
    "        <li>In conclusion, rapids ai more faster than sklearn. You can use it in large dataset to speed up your process.</li>\n",
    "    </ul>  \n",
    "</div>"
   ]
  },
  {
   "cell_type": "code",
   "execution_count": null,
   "id": "6dcc7fb7-2ea3-4afb-9b38-bf02b0dcd504",
   "metadata": {},
   "outputs": [],
   "source": [
    "# end"
   ]
  }
 ],
 "metadata": {
  "kernelspec": {
   "display_name": "Python 3 (ipykernel)",
   "language": "python",
   "name": "python3"
  },
  "language_info": {
   "codemirror_mode": {
    "name": "ipython",
    "version": 3
   },
   "file_extension": ".py",
   "mimetype": "text/x-python",
   "name": "python",
   "nbconvert_exporter": "python",
   "pygments_lexer": "ipython3",
   "version": "3.12.7"
  }
 },
 "nbformat": 4,
 "nbformat_minor": 5
}
